{
 "cells": [
  {
   "cell_type": "markdown",
   "id": "a6fa5f97",
   "metadata": {},
   "source": [
    "# Setup"
   ]
  },
  {
   "cell_type": "markdown",
   "id": "9d017f3a",
   "metadata": {},
   "source": [
    "First, let's import a few common modules, ensure MatplotLib plots figures inline and prepare a function to save the figures. We also check that Python 3.5 or later is installed (although Python 2.x may work, it is deprecated so we strongly recommend you use Python 3 instead), as well as Scikit-Learn ≥0.20."
   ]
  },
  {
   "cell_type": "code",
   "execution_count": 1,
   "id": "eabc82ce",
   "metadata": {},
   "outputs": [],
   "source": [
    "# Python ≥3.5 is required\n",
    "import sys\n",
    "assert sys.version_info >= (3, 5)\n",
    "\n",
    "# Is this notebook running on Colab or Kaggle?\n",
    "IS_COLAB = \"google.colab\" in sys.modules\n",
    "IS_KAGGLE = \"kaggle_secrets\" in sys.modules\n",
    "\n",
    "# Scikit-Learn ≥0.20 is required\n",
    "import sklearn\n",
    "assert sklearn.__version__ >= \"0.20\"\n",
    "\n",
    "# Common imports\n",
    "import numpy as np\n",
    "import os\n",
    "\n",
    "# to make this notebook's output stable across runs\n",
    "np.random.seed(42)\n",
    "\n",
    "# To plot pretty figures\n",
    "%matplotlib inline\n",
    "import matplotlib as mpl\n",
    "import matplotlib.pyplot as plt\n",
    "mpl.rc('axes', labelsize=14)\n",
    "mpl.rc('xtick', labelsize=12)\n",
    "mpl.rc('ytick', labelsize=12)\n",
    "\n",
    "# Where to save the figures\n",
    "PROJECT_ROOT_DIR = \".\"\n",
    "CHAPTER_ID = \"classification\"\n",
    "IMAGES_PATH = os.path.join(PROJECT_ROOT_DIR, \"images\", CHAPTER_ID)\n",
    "os.makedirs(IMAGES_PATH, exist_ok=True)\n",
    "\n",
    "def save_fig(fig_id, tight_layout=True, fig_extension=\"png\", resolution=300):\n",
    "    path = os.path.join(IMAGES_PATH, fig_id + \".\" + fig_extension)\n",
    "    print(\"Saving figure\", fig_id)\n",
    "    if tight_layout:\n",
    "        plt.tight_layout()\n",
    "    plt.savefig(path, format=fig_extension, dpi=resolution)"
   ]
  },
  {
   "cell_type": "markdown",
   "id": "4ef94807",
   "metadata": {},
   "source": [
    "# MNIST"
   ]
  },
  {
   "cell_type": "markdown",
   "id": "e452d941",
   "metadata": {},
   "source": [
    "In this project we will use the MNIST dataset, which is a set of 70,000 small images of digits handwritten by high school students and employees of the US Census Bureau. Each image is labeled with the digit it represents. \n",
    "\n",
    "The following code fetches the MNIST dataset:"
   ]
  },
  {
   "cell_type": "code",
   "execution_count": 2,
   "id": "2a2abbc0",
   "metadata": {},
   "outputs": [
    {
     "data": {
      "text/plain": [
       "dict_keys(['data', 'target', 'frame', 'categories', 'feature_names', 'target_names', 'DESCR', 'details', 'url'])"
      ]
     },
     "execution_count": 2,
     "metadata": {},
     "output_type": "execute_result"
    }
   ],
   "source": [
    "from sklearn.datasets import fetch_openml\n",
    "\n",
    "mnist = fetch_openml('mnist_784', version= 1,as_frame=False)\n",
    "mnist.keys()"
   ]
  },
  {
   "cell_type": "markdown",
   "id": "a78ede6e",
   "metadata": {},
   "source": [
    "Datasets loaded by Scikit-Learn generally have a similar dictionary structure, including the following:\n",
    "    \n",
    "* A DESCR key\n",
    "* A data key containing an array with one row per instance and one column per feature\n",
    "* A target key containing an array with labels"
   ]
  },
  {
   "cell_type": "code",
   "execution_count": 3,
   "id": "91342050",
   "metadata": {},
   "outputs": [
    {
     "data": {
      "text/plain": [
       "(70000, 784)"
      ]
     },
     "execution_count": 3,
     "metadata": {},
     "output_type": "execute_result"
    }
   ],
   "source": [
    "X, y = mnist[\"data\"], mnist[\"target\"]\n",
    "X.shape"
   ]
  },
  {
   "cell_type": "code",
   "execution_count": 4,
   "id": "5e74c2d4",
   "metadata": {},
   "outputs": [
    {
     "data": {
      "text/plain": [
       "(70000,)"
      ]
     },
     "execution_count": 4,
     "metadata": {},
     "output_type": "execute_result"
    }
   ],
   "source": [
    "y.shape"
   ]
  },
  {
   "cell_type": "code",
   "execution_count": 5,
   "id": "d6df66eb",
   "metadata": {},
   "outputs": [
    {
     "data": {
      "text/plain": [
       "array(['5', '0', '4', ..., '4', '5', '6'], dtype=object)"
      ]
     },
     "execution_count": 5,
     "metadata": {},
     "output_type": "execute_result"
    }
   ],
   "source": [
    "y"
   ]
  },
  {
   "cell_type": "code",
   "execution_count": 6,
   "id": "43984b82",
   "metadata": {},
   "outputs": [
    {
     "data": {
      "text/plain": [
       "array([[0., 0., 0., ..., 0., 0., 0.],\n",
       "       [0., 0., 0., ..., 0., 0., 0.],\n",
       "       [0., 0., 0., ..., 0., 0., 0.],\n",
       "       ...,\n",
       "       [0., 0., 0., ..., 0., 0., 0.],\n",
       "       [0., 0., 0., ..., 0., 0., 0.],\n",
       "       [0., 0., 0., ..., 0., 0., 0.]])"
      ]
     },
     "execution_count": 6,
     "metadata": {},
     "output_type": "execute_result"
    }
   ],
   "source": [
    "X"
   ]
  },
  {
   "cell_type": "markdown",
   "id": "2fab1e16",
   "metadata": {},
   "source": [
    "There are 70,000 images, and each image has 784 features. This is beacuse each image is 28 x 28 pixels. Let's take a peak at one digit from the dataset."
   ]
  },
  {
   "cell_type": "code",
   "execution_count": 7,
   "id": "0b42d5ec",
   "metadata": {},
   "outputs": [
    {
     "name": "stdout",
     "output_type": "stream",
     "text": [
      "Saving figure some_digit_plot\n"
     ]
    },
    {
     "data": {
      "image/png": "[encoded data removed]",
      "text/plain": [
       "<Figure size 432x288 with 1 Axes>"
      ]
     },
     "metadata": {
      "needs_background": "light"
     },
     "output_type": "display_data"
    }
   ],
   "source": [
    "%matplotlib inline\n",
    "import matplotlib as mpl\n",
    "import matplotlib.pyplot as plt\n",
    "\n",
    "some_digit = X[0]\n",
    "some_digit_image = some_digit.reshape(28, 28)\n",
    "plt.imshow(some_digit_image, cmap=mpl.cm.binary)\n",
    "plt.axis(\"off\")\n",
    "\n",
    "save_fig(\"some_digit_plot\")\n",
    "plt.show()"
   ]
  },
  {
   "cell_type": "code",
   "execution_count": 8,
   "id": "9ad6edad",
   "metadata": {},
   "outputs": [
    {
     "data": {
      "text/plain": [
       "'5'"
      ]
     },
     "execution_count": 8,
     "metadata": {},
     "output_type": "execute_result"
    }
   ],
   "source": [
    "y[0]"
   ]
  },
  {
   "cell_type": "markdown",
   "id": "7540643f",
   "metadata": {},
   "source": [
    "Let's cast y to integer: "
   ]
  },
  {
   "cell_type": "code",
   "execution_count": 9,
   "id": "2f97672c",
   "metadata": {},
   "outputs": [],
   "source": [
    "y = y.astype(np.uint8)"
   ]
  },
  {
   "cell_type": "markdown",
   "id": "78ff52c9",
   "metadata": {},
   "source": [
    "**Train and test split**"
   ]
  },
  {
   "cell_type": "markdown",
   "id": "5fd3589b",
   "metadata": {},
   "source": [
    "The MNIST dataset is actually already split into a training set (the fisrt 60,000 images) and a test set (the last 10,000 images):"
   ]
  },
  {
   "cell_type": "code",
   "execution_count": 10,
   "id": "ba2f247f",
   "metadata": {},
   "outputs": [],
   "source": [
    "X_train, X_test, y_train, y_test = X[:60000], X[60000:], y[:60000], y[60000:]"
   ]
  },
  {
   "cell_type": "markdown",
   "id": "83c2591d",
   "metadata": {},
   "source": [
    "The training set is already shuffled for us, which is good because this guarantees that all cross-validation folds will be similar."
   ]
  },
  {
   "cell_type": "markdown",
   "id": "d25c980b",
   "metadata": {},
   "source": [
    "# Training a Binary Classifier"
   ]
  },
  {
   "cell_type": "markdown",
   "id": "6a8cbdc6",
   "metadata": {},
   "source": [
    "Let's simplify the problem for now and only try identify one digit - for example, the number 5. Ths \"5-detector\" will be an example of a binary classifier, capable of distinguishing between just two classes, 5 and not-5. \n",
    "Let's create the target vectors for this classification task:\n"
   ]
  },
  {
   "cell_type": "code",
   "execution_count": 11,
   "id": "6ad01679",
   "metadata": {},
   "outputs": [],
   "source": [
    "y_train_5 = (y_train == 5)\n",
    "y_test_5 = (y_test == 5)"
   ]
  },
  {
   "cell_type": "markdown",
   "id": "b78e790a",
   "metadata": {},
   "source": [
    "Let's pick a classifier and train it, for example the Stochastic Gradient Descent (SGD) classifier. This classifier has the advantage of being capable of handling very large datasets efficiebtly."
   ]
  },
  {
   "cell_type": "code",
   "execution_count": 12,
   "id": "bd4d466b",
   "metadata": {},
   "outputs": [
    {
     "data": {
      "text/plain": [
       "SGDClassifier(random_state=42)"
      ]
     },
     "execution_count": 12,
     "metadata": {},
     "output_type": "execute_result"
    }
   ],
   "source": [
    "from sklearn.linear_model import SGDClassifier\n",
    "\n",
    "sgd = SGDClassifier(random_state=42)\n",
    "sgd.fit(X_train, y_train_5)\n"
   ]
  },
  {
   "cell_type": "markdown",
   "id": "9270e51c",
   "metadata": {},
   "source": [
    "Now we can use it to detect images of the number 5:\n",
    "    "
   ]
  },
  {
   "cell_type": "code",
   "execution_count": 13,
   "id": "c483f8b4",
   "metadata": {},
   "outputs": [
    {
     "data": {
      "text/plain": [
       "array([ True])"
      ]
     },
     "execution_count": 13,
     "metadata": {},
     "output_type": "execute_result"
    }
   ],
   "source": [
    "sgd.predict([some_digit])"
   ]
  },
  {
   "cell_type": "markdown",
   "id": "3cab8d9e",
   "metadata": {},
   "source": [
    "Looks like it guessed right in this particular case! Let's evaluate the model's performace."
   ]
  },
  {
   "cell_type": "markdown",
   "id": "1c746781",
   "metadata": {},
   "source": [
    "**Implementing Cross-Validation**"
   ]
  },
  {
   "cell_type": "code",
   "execution_count": 14,
   "id": "a6a1432a",
   "metadata": {},
   "outputs": [
    {
     "name": "stdout",
     "output_type": "stream",
     "text": [
      "0.9669\n",
      "0.91625\n",
      "0.96785\n"
     ]
    }
   ],
   "source": [
    "from sklearn.model_selection import StratifiedKFold\n",
    "from sklearn.base import clone\n",
    "\n",
    "skfolds = StratifiedKFold(n_splits =3, shuffle=True, random_state = 42)\n",
    "\n",
    "for train_index, test_index in skfolds.split(X_train, y_train_5):\n",
    "    clone_clf = clone(sgd)\n",
    "    X_train_folds = X_train[train_index]\n",
    "    y_train_folds = y_train_5[train_index]\n",
    "    X_test_folds = X_train[test_index]\n",
    "    y_test_folds = y_train_5[test_index]\n",
    "    \n",
    "    clone_clf.fit(X_train_folds, y_train_folds)\n",
    "    y_hat = clone_clf.predict(X_test_folds)\n",
    "    n_correct = sum(y_hat == y_test_folds)\n",
    "    print(n_correct / len(y_hat))"
   ]
  },
  {
   "cell_type": "markdown",
   "id": "e654332e",
   "metadata": {},
   "source": [
    "Let's use cross_val_score() function to evaluate our SGDClassifier model, using K-fold cross-validation with 3 folds."
   ]
  },
  {
   "cell_type": "code",
   "execution_count": 15,
   "id": "b569a4e9",
   "metadata": {},
   "outputs": [
    {
     "data": {
      "text/plain": [
       "array([0.95035, 0.96035, 0.9604 ])"
      ]
     },
     "execution_count": 15,
     "metadata": {},
     "output_type": "execute_result"
    }
   ],
   "source": [
    "from sklearn.model_selection import cross_val_score\n",
    "cross_val_score(sgd, X_train, y_train_5, cv =3 , scoring = \"accuracy\")"
   ]
  },
  {
   "cell_type": "markdown",
   "id": "fe422672",
   "metadata": {},
   "source": [
    "Wow! Above 95% accuracy on all cross-val folds? This looks amazing, doesn't it? Let's look at a very dumb classifier that just classifies every single image in the not-5 class:  "
   ]
  },
  {
   "cell_type": "code",
   "execution_count": 16,
   "id": "f4cb570e",
   "metadata": {},
   "outputs": [],
   "source": [
    "from sklearn.base import BaseEstimator\n",
    "\n",
    "class Never5Classifier(BaseEstimator):\n",
    "    def fit(self, X, y= None):\n",
    "        return self\n",
    "    def predict(self, X):\n",
    "        return np.zeros((len(X), 1), dtype = bool)"
   ]
  },
  {
   "cell_type": "code",
   "execution_count": 17,
   "id": "a880e73b",
   "metadata": {},
   "outputs": [
    {
     "data": {
      "text/plain": [
       "array([0.91125, 0.90855, 0.90915])"
      ]
     },
     "execution_count": 17,
     "metadata": {},
     "output_type": "execute_result"
    }
   ],
   "source": [
    "never_5_clf = Never5Classifier()\n",
    "cross_val_score(never_5_clf, X_train, y_train_5, cv =3 , scoring = \"accuracy\")"
   ]
  },
  {
   "cell_type": "markdown",
   "id": "57c30554",
   "metadata": {},
   "source": [
    "What? It has over 90% accuracy? "
   ]
  },
  {
   "cell_type": "markdown",
   "id": "446d16dd",
   "metadata": {},
   "source": [
    "This is simply because only about 10% of the images are 5s, so if you always guess that an image is not 5, you will be right about 90% of the time."
   ]
  },
  {
   "cell_type": "markdown",
   "id": "924f5b65",
   "metadata": {},
   "source": [
    "**Confusion matrix**"
   ]
  },
  {
   "cell_type": "markdown",
   "id": "caebafa0",
   "metadata": {},
   "source": [
    "A much better way to evaluate the performance of a classifier is to look at the confusion matrix. The general idea is to count the number of times instances of a class A are classified as class B."
   ]
  },
  {
   "cell_type": "code",
   "execution_count": 19,
   "id": "0d320cdc",
   "metadata": {},
   "outputs": [
    {
     "data": {
      "text/plain": [
       "array([[53892,   687],\n",
       "       [ 1891,  3530]], dtype=int64)"
      ]
     },
     "execution_count": 19,
     "metadata": {},
     "output_type": "execute_result"
    }
   ],
   "source": [
    "from sklearn.model_selection import cross_val_predict\n",
    "\n",
    "y_train_pred = cross_val_predict(sgd, X_train, y_train_5, cv=3)\n",
    "\n",
    "from sklearn.metrics import confusion_matrix\n",
    "\n",
    "confusion_matrix(y_train_5, y_train_pred)"
   ]
  },
  {
   "cell_type": "markdown",
   "id": "20f8f498",
   "metadata": {},
   "source": [
    "The first row of the matrix considers non-5 images (the negative class): 53,892 of them were correctly classified as non-5s (true negatives), while the remaining 687 were wrongly classified as 5s (false positives).\n",
    "The second row considers the images of 5s (the positive class): 1891 were wrongly classified as non-5s (false negatives), while the remaining 3530 were corectly classified as 5s ( true positives)."
   ]
  },
  {
   "cell_type": "markdown",
   "id": "e2a1e004",
   "metadata": {},
   "source": [
    "A perfect classifier would have only true positives and true negatives:"
   ]
  },
  {
   "cell_type": "code",
   "execution_count": 20,
   "id": "4f6679f1",
   "metadata": {},
   "outputs": [
    {
     "data": {
      "text/plain": [
       "array([[54579,     0],\n",
       "       [    0,  5421]], dtype=int64)"
      ]
     },
     "execution_count": 20,
     "metadata": {},
     "output_type": "execute_result"
    }
   ],
   "source": [
    "y_train_perfect_pred = y_train_5\n",
    "confusion_matrix(y_train_5, y_train_perfect_pred)"
   ]
  },
  {
   "cell_type": "markdown",
   "id": "b889dcde",
   "metadata": {},
   "source": [
    "The confusion matrix gives us a lot of information, but sometimes we may want a more concise metric. An interesting one to look at is the accuracy of the positive predictions; this is called the precision of the classifier.\n",
    "\n",
    "\n",
    "precision = TP/(TP+FP)\n",
    "\n",
    "TP-true positive\n",
    "\n",
    "FP-false positive"
   ]
  },
  {
   "cell_type": "markdown",
   "id": "a5dd9359",
   "metadata": {},
   "source": [
    "But this would not very useful, since the classifier would ignore all but one positive instance. So precision is typically used along with another metric called recall or sensitivity or the true positive rate (TPR):\n",
    "\n",
    "recall = TP/(TP+FN)\n",
    "\n",
    "FN-false negatives"
   ]
  },
  {
   "cell_type": "markdown",
   "id": "9c7e1ef3",
   "metadata": {},
   "source": [
    "**Precision and Recall**\n"
   ]
  },
  {
   "cell_type": "code",
   "execution_count": 21,
   "id": "01aacd45",
   "metadata": {},
   "outputs": [
    {
     "data": {
      "text/plain": [
       "0.8370879772350012"
      ]
     },
     "execution_count": 21,
     "metadata": {},
     "output_type": "execute_result"
    }
   ],
   "source": [
    "from sklearn.metrics import precision_score, recall_score\n",
    "\n",
    "precision_score(y_train_5, y_train_pred)"
   ]
  },
  {
   "cell_type": "code",
   "execution_count": 22,
   "id": "385db6f8",
   "metadata": {},
   "outputs": [
    {
     "data": {
      "text/plain": [
       "0.6511713705958311"
      ]
     },
     "execution_count": 22,
     "metadata": {},
     "output_type": "execute_result"
    }
   ],
   "source": [
    "recall_score(y_train_5, y_train_pred)"
   ]
  },
  {
   "cell_type": "markdown",
   "id": "16e6cacc",
   "metadata": {},
   "source": [
    "So, our 5-detector claims an image represents a 5 with a 83% acuraccy and only detects 65% of the 5s."
   ]
  },
  {
   "cell_type": "markdown",
   "id": "0e392172",
   "metadata": {},
   "source": [
    "It is often convinient to combine the precision with the recall into a single metric called the F1 score. The F1 score is the harmonic mean of precision and recall. "
   ]
  },
  {
   "cell_type": "code",
   "execution_count": 23,
   "id": "cce0f5a7",
   "metadata": {},
   "outputs": [
    {
     "data": {
      "text/plain": [
       "0.7325171197343846"
      ]
     },
     "execution_count": 23,
     "metadata": {},
     "output_type": "execute_result"
    }
   ],
   "source": [
    "from sklearn.metrics import f1_score\n",
    "f1_score(y_train_5, y_train_pred)"
   ]
  },
  {
   "cell_type": "markdown",
   "id": "d12a9482",
   "metadata": {},
   "source": [
    "**Precision/Recall Trade-off**"
   ]
  },
  {
   "cell_type": "markdown",
   "id": "b688335c",
   "metadata": {},
   "source": [
    "For each instance, the SGDClassifier computes a score based on a decision function. If that score is greater than a threshold, it assigns the instance to the possitive class; otherwise it assigns it to the negative class. Suppose the decision threshold is positioned in the middle. If you raise the threshold, the precision is increasing, but the recall is decreasing. Conversely, lowering the threshold increases recall and reduces precision."
   ]
  },
  {
   "cell_type": "markdown",
   "id": "e504fd2a",
   "metadata": {},
   "source": [
    "Scikit-Learn doesn't let you set the threshold decision, but it gives us access to the decision scores that it uses to make predictions."
   ]
  },
  {
   "cell_type": "code",
   "execution_count": 24,
   "id": "ad0cc400",
   "metadata": {},
   "outputs": [
    {
     "data": {
      "text/plain": [
       "array([2164.22030239])"
      ]
     },
     "execution_count": 24,
     "metadata": {},
     "output_type": "execute_result"
    }
   ],
   "source": [
    "y_scores = sgd.decision_function([some_digit])\n",
    "y_scores"
   ]
  },
  {
   "cell_type": "markdown",
   "id": "b525ee6d",
   "metadata": {},
   "source": [
    "The SGDClassifier uses a threshold equal to 0, so let's raise the threshold:"
   ]
  },
  {
   "cell_type": "code",
   "execution_count": 25,
   "id": "c281c8a1",
   "metadata": {},
   "outputs": [
    {
     "data": {
      "text/plain": [
       "array([False])"
      ]
     },
     "execution_count": 25,
     "metadata": {},
     "output_type": "execute_result"
    }
   ],
   "source": [
    "threshold = 8000\n",
    "y_some_digit_pred = (y_scores > threshold)\n",
    "y_some_digit_pred "
   ]
  },
  {
   "cell_type": "markdown",
   "id": "dc23006a",
   "metadata": {},
   "source": [
    "This confirms that raising the threshold decreases recall. The image is actually a 5, and the classifier detects it when the threshold is 0, but it misses it when the threshold is increased to 8,000.\n",
    "\n",
    "How to decide which threshold to use? We will compute the precision and recall for all possible thresholds:"
   ]
  },
  {
   "cell_type": "code",
   "execution_count": 26,
   "id": "13d4f813",
   "metadata": {},
   "outputs": [],
   "source": [
    "y_scores = cross_val_predict(sgd, X_train, y_train_5, cv = 3, \n",
    "                            method= \"decision_function\")"
   ]
  },
  {
   "cell_type": "code",
   "execution_count": 27,
   "id": "7669832d",
   "metadata": {},
   "outputs": [],
   "source": [
    "from sklearn.metrics import precision_recall_curve\n",
    "\n",
    "precisions, recalls, thresholds = precision_recall_curve(y_train_5, y_scores)"
   ]
  },
  {
   "cell_type": "code",
   "execution_count": 28,
   "id": "1cb3b2e2",
   "metadata": {},
   "outputs": [
    {
     "name": "stdout",
     "output_type": "stream",
     "text": [
      "Saving figure precision_recall_vs_threshold_plot\n"
     ]
    },
    {
     "data": {
      "image/png": "[encoded data removed]",
      "text/plain": [
       "<Figure size 576x288 with 1 Axes>"
      ]
     },
     "metadata": {
      "needs_background": "light"
     },
     "output_type": "display_data"
    }
   ],
   "source": [
    "def plot_precision_recall_vs_threshold(precisions, recalls, thresholds):\n",
    "    plt.plot(thresholds, precisions[:-1], \"b--\", label=\"Precision\", linewidth=2)\n",
    "    plt.plot(thresholds, recalls[:-1], \"g-\", label=\"Recall\", linewidth=2)\n",
    "    plt.legend(loc=\"center right\", fontsize=16) # Not shown in the book\n",
    "    plt.xlabel(\"Threshold\", fontsize=16)        # Not shown\n",
    "    plt.grid(True)                              # Not shown\n",
    "    plt.axis([-50000, 50000, 0, 1])             # Not shown\n",
    "\n",
    "\n",
    "\n",
    "recall_90_precision = recalls[np.argmax(precisions >= 0.90)]\n",
    "threshold_90_precision = thresholds[np.argmax(precisions >= 0.90)]\n",
    "\n",
    "\n",
    "plt.figure(figsize=(8, 4))                                                                 \n",
    "plot_precision_recall_vs_threshold(precisions, recalls, thresholds)\n",
    "plt.plot([threshold_90_precision, threshold_90_precision], [0., 0.9], \"r:\")                 \n",
    "plt.plot([-50000, threshold_90_precision], [0.9, 0.9], \"r:\")\n",
    "plt.plot([-50000, threshold_90_precision], [recall_90_precision, recall_90_precision], \"r:\")\n",
    "plt.plot([threshold_90_precision], [0.9], \"ro\")                                         \n",
    "plt.plot([threshold_90_precision], [recall_90_precision], \"ro\")                         \n",
    "save_fig(\"precision_recall_vs_threshold_plot\")                                         \n",
    "plt.show()"
   ]
  },
  {
   "cell_type": "markdown",
   "id": "42086697",
   "metadata": {},
   "source": [
    "Another way to select a good pecision/recall trade-off is to plot directly agaings recall:"
   ]
  },
  {
   "cell_type": "code",
   "execution_count": 29,
   "id": "cf1e8c81",
   "metadata": {},
   "outputs": [
    {
     "name": "stdout",
     "output_type": "stream",
     "text": [
      "Saving figure precision_vs_recall_plot\n"
     ]
    },
    {
     "data": {
      "image/png": "[encoded data removed]",
      "text/plain": [
       "<Figure size 576x432 with 1 Axes>"
      ]
     },
     "metadata": {
      "needs_background": "light"
     },
     "output_type": "display_data"
    }
   ],
   "source": [
    "def plot_precision_vs_recall(precisions, recalls):\n",
    "    plt.plot(recalls, precisions, \"b-\", linewidth=2)\n",
    "    plt.xlabel(\"Recall\", fontsize=16)\n",
    "    plt.ylabel(\"Precision\", fontsize=16)\n",
    "    plt.axis([0, 1, 0, 1])\n",
    "    plt.grid(True)\n",
    "\n",
    "plt.figure(figsize=(8, 6))\n",
    "plot_precision_vs_recall(precisions, recalls)\n",
    "plt.plot([recall_90_precision, recall_90_precision], [0., 0.9], \"r:\")\n",
    "plt.plot([0.0, recall_90_precision], [0.9, 0.9], \"r:\")\n",
    "plt.plot([recall_90_precision], [0.9], \"ro\")\n",
    "save_fig(\"precision_vs_recall_plot\")\n",
    "plt.show()"
   ]
  },
  {
   "cell_type": "markdown",
   "id": "86d4fbc3",
   "metadata": {},
   "source": [
    "We can see that precision really stars to fall sharply around 80% recall. We will probably want to select a precision/recall trade-off just before that drop - at around 60% recall. "
   ]
  },
  {
   "cell_type": "markdown",
   "id": "6c0f0aec",
   "metadata": {},
   "source": [
    "**The ROC Curve**"
   ]
  },
  {
   "cell_type": "code",
   "execution_count": 30,
   "id": "505e0aa0",
   "metadata": {},
   "outputs": [],
   "source": [
    "from sklearn.metrics import roc_curve\n",
    "\n",
    "fpr, tpr, thresholds = roc_curve(y_train_5, y_scores)"
   ]
  },
  {
   "cell_type": "code",
   "execution_count": 31,
   "id": "e6f7c21f",
   "metadata": {},
   "outputs": [
    {
     "name": "stdout",
     "output_type": "stream",
     "text": [
      "Saving figure roc_curve_plot\n"
     ]
    },
    {
     "data": {
      "image/png": "[encoded data removed]",
      "text/plain": [
       "<Figure size 576x432 with 1 Axes>"
      ]
     },
     "metadata": {
      "needs_background": "light"
     },
     "output_type": "display_data"
    }
   ],
   "source": [
    "def plot_roc_curve(fpr, tpr, label=None):\n",
    "    plt.plot(fpr, tpr, linewidth=2, label=label)\n",
    "    plt.plot([0, 1], [0, 1], 'k--') # dashed diagonal\n",
    "    plt.axis([0, 1, 0, 1])                                    \n",
    "    plt.xlabel('False Positive Rate (Fall-Out)', fontsize=16) \n",
    "    plt.ylabel('True Positive Rate (Recall)', fontsize=16)    \n",
    "    plt.grid(True)                                            \n",
    "\n",
    "plt.figure(figsize=(8, 6))                                    \n",
    "plot_roc_curve(fpr, tpr)\n",
    "fpr_90 = fpr[np.argmax(tpr >= recall_90_precision)]           \n",
    "plt.plot([fpr_90, fpr_90], [0., recall_90_precision], \"r:\")   \n",
    "plt.plot([0.0, fpr_90], [recall_90_precision, recall_90_precision], \"r:\") \n",
    "plt.plot([fpr_90], [recall_90_precision], \"ro\")               \n",
    "save_fig(\"roc_curve_plot\")                                    \n",
    "plt.show()"
   ]
  },
  {
   "cell_type": "markdown",
   "id": "0319aaac",
   "metadata": {},
   "source": [
    "The dotted line represents the ROC curve of a purely random classifier; a good classifier stays as far away from that line (toward the top-left corner)."
   ]
  },
  {
   "cell_type": "code",
   "execution_count": 32,
   "id": "960e8e70",
   "metadata": {},
   "outputs": [
    {
     "data": {
      "text/plain": [
       "0.9604938554008616"
      ]
     },
     "execution_count": 32,
     "metadata": {},
     "output_type": "execute_result"
    }
   ],
   "source": [
    "from sklearn.metrics import roc_auc_score\n",
    "roc_auc_score(y_train_5, y_scores)"
   ]
  },
  {
   "cell_type": "markdown",
   "id": "15058aa7",
   "metadata": {},
   "source": [
    "Let's now train a RandomForestClassifier and compare its ROC Curve and ROC AUC score to those of the SGDClassifier."
   ]
  },
  {
   "cell_type": "code",
   "execution_count": 33,
   "id": "4fe363bf",
   "metadata": {},
   "outputs": [],
   "source": [
    "from sklearn.ensemble import RandomForestClassifier\n",
    "\n",
    "rf = RandomForestClassifier(random_state = 42)\n",
    "y_probas_rf = cross_val_predict(rf,X_train, y_train_5, cv=3, method = \"predict_proba\")"
   ]
  },
  {
   "cell_type": "code",
   "execution_count": 34,
   "id": "6927b6e5",
   "metadata": {},
   "outputs": [],
   "source": [
    "y_scores_rf = y_probas_rf[:, 1]\n",
    "fpr_rf, tpr_rf, thresholds_rf = roc_curve(y_train_5, y_scores_rf)"
   ]
  },
  {
   "cell_type": "code",
   "execution_count": 35,
   "id": "9e6adadf",
   "metadata": {},
   "outputs": [
    {
     "name": "stdout",
     "output_type": "stream",
     "text": [
      "Saving figure roc_curve_comparison_plot\n"
     ]
    },
    {
     "data": {
      "image/png": "[encoded data removed]",
      "text/plain": [
       "<Figure size 576x432 with 1 Axes>"
      ]
     },
     "metadata": {
      "needs_background": "light"
     },
     "output_type": "display_data"
    }
   ],
   "source": [
    "recall_for_forest = tpr_rf[np.argmax(fpr_rf >= fpr_90)]\n",
    "\n",
    "plt.figure(figsize=(8, 6))\n",
    "plt.plot(fpr, tpr, \"b:\", linewidth=2, label=\"SGD\")\n",
    "plot_roc_curve(fpr_rf, tpr_rf, \"Random Forest\")\n",
    "plt.plot([fpr_90, fpr_90], [0., recall_90_precision], \"r:\")\n",
    "plt.plot([0.0, fpr_90], [recall_90_precision, recall_90_precision], \"r:\")\n",
    "plt.plot([fpr_90], [recall_90_precision], \"ro\")\n",
    "plt.plot([fpr_90, fpr_90], [0., recall_for_forest], \"r:\")\n",
    "plt.plot([fpr_90], [recall_for_forest], \"ro\")\n",
    "plt.grid(True)\n",
    "plt.legend(loc=\"lower right\", fontsize=16)\n",
    "save_fig(\"roc_curve_comparison_plot\")\n",
    "plt.show()"
   ]
  },
  {
   "cell_type": "markdown",
   "id": "28f36605",
   "metadata": {},
   "source": [
    "The RandomForestClassifier's ROC curve looks much better than the SGDClassifier's."
   ]
  },
  {
   "cell_type": "code",
   "execution_count": 36,
   "id": "c7508d92",
   "metadata": {},
   "outputs": [
    {
     "data": {
      "text/plain": [
       "0.9983436731328145"
      ]
     },
     "execution_count": 36,
     "metadata": {},
     "output_type": "execute_result"
    }
   ],
   "source": [
    "roc_auc_score(y_train_5, y_scores_rf)"
   ]
  },
  {
   "cell_type": "code",
   "execution_count": 37,
   "id": "382ddf6f",
   "metadata": {},
   "outputs": [
    {
     "data": {
      "text/plain": [
       "0.9905083315756169"
      ]
     },
     "execution_count": 37,
     "metadata": {},
     "output_type": "execute_result"
    }
   ],
   "source": [
    "y_train_pred_forest = cross_val_predict(rf, X_train, y_train_5, cv=3)\n",
    "precision_score(y_train_5, y_train_pred_forest)"
   ]
  },
  {
   "cell_type": "code",
   "execution_count": 38,
   "id": "14739879",
   "metadata": {},
   "outputs": [
    {
     "data": {
      "text/plain": [
       "0.8662608374838591"
      ]
     },
     "execution_count": 38,
     "metadata": {},
     "output_type": "execute_result"
    }
   ],
   "source": [
    "recall_score(y_train_5, y_train_pred_forest)"
   ]
  },
  {
   "cell_type": "markdown",
   "id": "189535e9",
   "metadata": {},
   "source": [
    "We obtained a 99% precision and a 86.6% recall. Not too bad!\n",
    "\n",
    "Now let's detect more than just the 5s!"
   ]
  },
  {
   "cell_type": "markdown",
   "id": "aed803f9",
   "metadata": {},
   "source": [
    "# Multiclass Classification"
   ]
  },
  {
   "cell_type": "markdown",
   "id": "2f2c2607",
   "metadata": {},
   "source": [
    "Let's try to use a Support Vector Machine classifier:\n"
   ]
  },
  {
   "cell_type": "code",
   "execution_count": 39,
   "id": "0c30286e",
   "metadata": {},
   "outputs": [
    {
     "data": {
      "text/plain": [
       "array([5], dtype=uint8)"
      ]
     },
     "execution_count": 39,
     "metadata": {},
     "output_type": "execute_result"
    }
   ],
   "source": [
    "from sklearn.svm import SVC\n",
    "\n",
    "svm = SVC()\n",
    "svm.fit(X_train, y_train)\n",
    "svm.predict([some_digit])"
   ]
  },
  {
   "cell_type": "markdown",
   "id": "be64128e",
   "metadata": {},
   "source": [
    "This code trains the SVC on the training set using the original target classes from 0 to 9 (y_train), instead of the 5-versus-the-rest target classes(y_train_5). Then it makes a prediction (a good one in this case)."
   ]
  },
  {
   "cell_type": "code",
   "execution_count": 40,
   "id": "66460e54",
   "metadata": {},
   "outputs": [
    {
     "data": {
      "text/plain": [
       "array([[ 1.72501977,  2.72809088,  7.2510018 ,  8.3076379 , -0.31087254,\n",
       "         9.3132482 ,  1.70975103,  2.76765202,  6.23049537,  4.84771048]])"
      ]
     },
     "execution_count": 40,
     "metadata": {},
     "output_type": "execute_result"
    }
   ],
   "source": [
    "some_digit_scores = svm.decision_function([some_digit])\n",
    "some_digit_scores"
   ]
  },
  {
   "cell_type": "markdown",
   "id": "979fdf5d",
   "metadata": {},
   "source": [
    "The highest score is indeed the one coresponding to 5."
   ]
  },
  {
   "cell_type": "code",
   "execution_count": 41,
   "id": "8c9e2e7c",
   "metadata": {},
   "outputs": [
    {
     "data": {
      "text/plain": [
       "5"
      ]
     },
     "execution_count": 41,
     "metadata": {},
     "output_type": "execute_result"
    }
   ],
   "source": [
    "np.argmax(some_digit_scores)"
   ]
  },
  {
   "cell_type": "code",
   "execution_count": 42,
   "id": "c754388c",
   "metadata": {},
   "outputs": [
    {
     "data": {
      "text/plain": [
       "array([0, 1, 2, 3, 4, 5, 6, 7, 8, 9], dtype=uint8)"
      ]
     },
     "execution_count": 42,
     "metadata": {},
     "output_type": "execute_result"
    }
   ],
   "source": [
    "svm.classes_"
   ]
  },
  {
   "cell_type": "code",
   "execution_count": 44,
   "id": "223d9c2e",
   "metadata": {},
   "outputs": [
    {
     "data": {
      "text/plain": [
       "5"
      ]
     },
     "execution_count": 44,
     "metadata": {},
     "output_type": "execute_result"
    }
   ],
   "source": [
    "svm.classes_[5]"
   ]
  },
  {
   "cell_type": "markdown",
   "id": "ab5a5916",
   "metadata": {},
   "source": [
    "Let's try a one-versus-the-rest approach:"
   ]
  },
  {
   "cell_type": "code",
   "execution_count": 45,
   "id": "18910d40",
   "metadata": {},
   "outputs": [
    {
     "data": {
      "text/plain": [
       "array([5], dtype=uint8)"
      ]
     },
     "execution_count": 45,
     "metadata": {},
     "output_type": "execute_result"
    }
   ],
   "source": [
    "from sklearn.multiclass import OneVsRestClassifier\n",
    "ovr = OneVsRestClassifier(SVC())\n",
    "ovr.fit(X_train, y_train)\n",
    "ovr.predict([some_digit])"
   ]
  },
  {
   "cell_type": "code",
   "execution_count": 46,
   "id": "26305e30",
   "metadata": {},
   "outputs": [
    {
     "data": {
      "text/plain": [
       "10"
      ]
     },
     "execution_count": 46,
     "metadata": {},
     "output_type": "execute_result"
    }
   ],
   "source": [
    "len(ovr.estimators_)"
   ]
  },
  {
   "cell_type": "markdown",
   "id": "79811b5c",
   "metadata": {},
   "source": [
    "Let's try a SGDClassifier:"
   ]
  },
  {
   "cell_type": "code",
   "execution_count": 47,
   "id": "450a8adf",
   "metadata": {},
   "outputs": [
    {
     "data": {
      "text/plain": [
       "array([3], dtype=uint8)"
      ]
     },
     "execution_count": 47,
     "metadata": {},
     "output_type": "execute_result"
    }
   ],
   "source": [
    "sgd.fit(X_train, y_train)\n",
    "sgd.predict([some_digit])"
   ]
  },
  {
   "cell_type": "code",
   "execution_count": 48,
   "id": "1708632f",
   "metadata": {},
   "outputs": [
    {
     "data": {
      "text/plain": [
       "array([[-31893.03095419, -34419.69069632,  -9530.63950739,\n",
       "          1823.73154031, -22320.14822878,  -1385.80478895,\n",
       "        -26188.91070951, -16147.51323997,  -4604.35491274,\n",
       "        -12050.767298  ]])"
      ]
     },
     "execution_count": 48,
     "metadata": {},
     "output_type": "execute_result"
    }
   ],
   "source": [
    "sgd.decision_function([some_digit])"
   ]
  },
  {
   "cell_type": "markdown",
   "id": "08171c8d",
   "metadata": {},
   "source": [
    "We see that the SGDClassifier predict the 'some_digit' wrong."
   ]
  },
  {
   "cell_type": "markdown",
   "id": "ee7b2a41",
   "metadata": {},
   "source": [
    "**Evaluate the classfier**"
   ]
  },
  {
   "cell_type": "markdown",
   "id": "1ec3b975",
   "metadata": {},
   "source": [
    "We will use the cross_val_score() function to evaluate the SGDClassifier's accuracy:"
   ]
  },
  {
   "cell_type": "code",
   "execution_count": 49,
   "id": "d394191a",
   "metadata": {},
   "outputs": [
    {
     "data": {
      "text/plain": [
       "array([0.87365, 0.85835, 0.8689 ])"
      ]
     },
     "execution_count": 49,
     "metadata": {},
     "output_type": "execute_result"
    }
   ],
   "source": [
    "cross_val_score(sgd,X_train, y_train, cv=3, scoring='accuracy')"
   ]
  },
  {
   "cell_type": "markdown",
   "id": "5037f0e9",
   "metadata": {},
   "source": [
    "It gets over 85% on all test folds. If we used a random classifier, you would get 10% accuracy, so this is not such a bad score, but we can still do much better simply by scaling the inputs (increases accuracy above 89%):"
   ]
  },
  {
   "cell_type": "code",
   "execution_count": 52,
   "id": "8b9bc3bc",
   "metadata": {},
   "outputs": [
    {
     "data": {
      "text/plain": [
       "array([0.8983, 0.891 , 0.9018])"
      ]
     },
     "execution_count": 52,
     "metadata": {},
     "output_type": "execute_result"
    }
   ],
   "source": [
    "from sklearn.preprocessing import StandardScaler\n",
    "scaler = StandardScaler()\n",
    "X_train_scaled= scaler.fit_transform(X_train.astype(np.float64))\n",
    "cross_val_score(sgd,X_train_scaled, y_train, cv=3, scoring='accuracy')"
   ]
  },
  {
   "cell_type": "markdown",
   "id": "e59d48ac",
   "metadata": {},
   "source": [
    "**Error Analysis**"
   ]
  },
  {
   "cell_type": "markdown",
   "id": "3978a817",
   "metadata": {},
   "source": [
    "We will asume that we have found a promising model and we want to find ways to improve it. One way to do this is to analyze the types of errors it makes."
   ]
  },
  {
   "cell_type": "code",
   "execution_count": 53,
   "id": "698d2f01",
   "metadata": {},
   "outputs": [
    {
     "data": {
      "text/plain": [
       "array([[5577,    0,   22,    5,    8,   43,   36,    6,  225,    1],\n",
       "       [   0, 6400,   37,   24,    4,   44,    4,    7,  212,   10],\n",
       "       [  27,   27, 5220,   92,   73,   27,   67,   36,  378,   11],\n",
       "       [  22,   17,  117, 5227,    2,  203,   27,   40,  403,   73],\n",
       "       [  12,   14,   41,    9, 5182,   12,   34,   27,  347,  164],\n",
       "       [  27,   15,   30,  168,   53, 4444,   75,   14,  535,   60],\n",
       "       [  30,   15,   42,    3,   44,   97, 5552,    3,  131,    1],\n",
       "       [  21,   10,   51,   30,   49,   12,    3, 5684,  195,  210],\n",
       "       [  17,   63,   48,   86,    3,  126,   25,   10, 5429,   44],\n",
       "       [  25,   18,   30,   64,  118,   36,    1,  179,  371, 5107]],\n",
       "      dtype=int64)"
      ]
     },
     "execution_count": 53,
     "metadata": {},
     "output_type": "execute_result"
    }
   ],
   "source": [
    "y_train_pred = cross_val_predict(sgd, X_trained_scaled, y_train, cv=3)\n",
    "conf_mx = confusion_matrix(y_train, y_train_pred)\n",
    "conf_mx"
   ]
  },
  {
   "cell_type": "code",
   "execution_count": 54,
   "id": "68e12938",
   "metadata": {},
   "outputs": [
    {
     "data": {
      "image/png": "[encoded data removed]",
      "text/plain": [
       "<Figure size 288x288 with 1 Axes>"
      ]
     },
     "metadata": {
      "needs_background": "light"
     },
     "output_type": "display_data"
    }
   ],
   "source": [
    "plt.matshow(conf_mx, cmap = plt.cm.gray)\n",
    "plt.show()"
   ]
  },
  {
   "cell_type": "markdown",
   "id": "45df2795",
   "metadata": {},
   "source": [
    "This confusion matrix looks preatty good, since most images are on the main diagonal, which means that they were classified correctly. The 5s look slightly darker than the other digits, which could mean that  there are fewer images of 5s in the dataset or that the classifier does not perform  as well on 5s as on other digits.\n",
    "\n",
    "Let's focus on the errors. First, we need to divide each value in the confusion matrix by the number of images in the corresponding class so that we can compare error rates instead of absolute number of errors."
   ]
  },
  {
   "cell_type": "code",
   "execution_count": 55,
   "id": "3b6be4d1",
   "metadata": {},
   "outputs": [],
   "source": [
    "row_sums = conf_mx.sum(axis=1, keepdims=True)\n",
    "norm_conf_mx = conf_mx / row_sums"
   ]
  },
  {
   "cell_type": "code",
   "execution_count": 58,
   "id": "bd57e683",
   "metadata": {},
   "outputs": [
    {
     "data": {
      "image/png": "[encoded data removed]",
      "text/plain": [
       "<Figure size 288x288 with 1 Axes>"
      ]
     },
     "metadata": {
      "needs_background": "light"
     },
     "output_type": "display_data"
    }
   ],
   "source": [
    "np.fill_diagonal(norm_conf_mx, 0)\n",
    "plt.matshow(norm_conf_mx, cmap = plt.cm.gray)\n",
    "plt.show()\n"
   ]
  },
  {
   "cell_type": "markdown",
   "id": "fd9dc162",
   "metadata": {},
   "source": [
    "We can clearly see the kinds of errors the classifier makes. The column for class 8 is quite bright, which tells us that many images get missclassified as 8s. As we can see, the confusion matrix is not necessarily symmetrical. We can also see that 3s and 5s often get confused.\n",
    "\n",
    "Analyzing individual errors can be a good way to gain insights on what our classifier is doing and why it is failing, but is more difficult and time-consuming. For example, let's plot examples of 3s and 5s:"
   ]
  },
  {
   "cell_type": "code",
   "execution_count": 60,
   "id": "13ad81f1",
   "metadata": {},
   "outputs": [],
   "source": [
    "def plot_digits(instances, images_per_row=10, **options):\n",
    "    size = 28\n",
    "    images_per_row = min(len(instances), images_per_row)\n",
    "    # This is equivalent to n_rows = ceil(len(instances) / images_per_row):\n",
    "    n_rows = (len(instances) - 1) // images_per_row + 1\n",
    "\n",
    "    # Append empty images to fill the end of the grid, if needed:\n",
    "    n_empty = n_rows * images_per_row - len(instances)\n",
    "    padded_instances = np.concatenate([instances, np.zeros((n_empty, size * size))], axis=0)\n",
    "\n",
    "    # Reshape the array so it's organized as a grid containing 28×28 images:\n",
    "    image_grid = padded_instances.reshape((n_rows, images_per_row, size, size))\n",
    "\n",
    "    # Combine axes 0 and 2 (vertical image grid axis, and vertical image axis),\n",
    "    # and axes 1 and 3 (horizontal axes). We first need to move the axes that we\n",
    "    # want to combine next to each other, using transpose(), and only then we\n",
    "    # can reshape:\n",
    "    big_image = image_grid.transpose(0, 2, 1, 3).reshape(n_rows * size,\n",
    "                                                         images_per_row * size)\n",
    "    # Now that we have a big image, we just need to show it:\n",
    "    plt.imshow(big_image, cmap = mpl.cm.binary, **options)\n",
    "    plt.axis(\"off\")"
   ]
  },
  {
   "cell_type": "code",
   "execution_count": 62,
   "id": "2ec4424f",
   "metadata": {},
   "outputs": [
    {
     "data": {
      "image/png": "[encoded data removed]",
      "text/plain": [
       "<Figure size 576x576 with 4 Axes>"
      ]
     },
     "metadata": {
      "needs_background": "light"
     },
     "output_type": "display_data"
    }
   ],
   "source": [
    "cl_a, cl_b = 3, 5\n",
    "X_aa = X_train[(y_train == cl_a) & (y_train_pred== cl_a)]\n",
    "X_ab = X_train[(y_train == cl_a) & (y_train_pred== cl_b)]\n",
    "X_ba = X_train[(y_train == cl_b) & (y_train_pred== cl_a)]\n",
    "X_bb = X_train[(y_train == cl_b) & (y_train_pred== cl_b)]\n",
    "\n",
    "plt.figure(figsize=(8,8))\n",
    "plt.subplot(221); plot_digits(X_aa[:25], images_per_row=5)\n",
    "plt.subplot(222); plot_digits(X_ab[:25], images_per_row=5)\n",
    "plt.subplot(223); plot_digits(X_ba[:25], images_per_row=5)\n",
    "plt.subplot(224); plot_digits(X_bb[:25], images_per_row=5)\n",
    "plt.show()"
   ]
  },
  {
   "cell_type": "markdown",
   "id": "f6cf1c0a",
   "metadata": {},
   "source": [
    "# Multilabel Classification"
   ]
  },
  {
   "cell_type": "code",
   "execution_count": 64,
   "id": "6deed871",
   "metadata": {},
   "outputs": [
    {
     "data": {
      "text/plain": [
       "KNeighborsClassifier()"
      ]
     },
     "execution_count": 64,
     "metadata": {},
     "output_type": "execute_result"
    }
   ],
   "source": [
    "from sklearn.neighbors import KNeighborsClassifier\n",
    "\n",
    "y_train_large = (y_train >= 7)\n",
    "y_train_odd = (y_train % 2 ==1)\n",
    "y_multilabel = np.c_[y_train_large, y_train_odd]\n",
    "\n",
    "knn = KNeighborsClassifier()\n",
    "knn.fit(X_train, y_multilabel)"
   ]
  },
  {
   "cell_type": "markdown",
   "id": "9f4a42f8",
   "metadata": {},
   "source": [
    "This code creates a y_multilabel array containing two target labels for each digit image: the first indicates whether or not the digit is large (7,8 or 9), and the second indicates whether or not it is odd."
   ]
  },
  {
   "cell_type": "code",
   "execution_count": 65,
   "id": "7884d292",
   "metadata": {},
   "outputs": [
    {
     "data": {
      "text/plain": [
       "array([[False,  True]])"
      ]
     },
     "execution_count": 65,
     "metadata": {},
     "output_type": "execute_result"
    }
   ],
   "source": [
    "knn.predict([some_digit])"
   ]
  },
  {
   "cell_type": "markdown",
   "id": "203dd4db",
   "metadata": {},
   "source": [
    "And it gets it right! The digit 5 is indeed not large and odd."
   ]
  },
  {
   "cell_type": "code",
   "execution_count": 66,
   "id": "bb90f147",
   "metadata": {},
   "outputs": [
    {
     "data": {
      "text/plain": [
       "0.976410265560605"
      ]
     },
     "execution_count": 66,
     "metadata": {},
     "output_type": "execute_result"
    }
   ],
   "source": [
    "y_train_knn_pred = cross_val_predict(knn, X_train, y_multilabel, cv = 3)\n",
    "f1_score(y_multilabel, y_train_knn_pred, average = 'macro')"
   ]
  },
  {
   "cell_type": "code",
   "execution_count": 67,
   "id": "95143d66",
   "metadata": {},
   "outputs": [
    {
     "data": {
      "text/plain": [
       "0.9778357403921755"
      ]
     },
     "execution_count": 67,
     "metadata": {},
     "output_type": "execute_result"
    }
   ],
   "source": [
    "f1_score(y_multilabel, y_train_knn_pred, average = 'weighted')"
   ]
  },
  {
   "cell_type": "markdown",
   "id": "04c268c2",
   "metadata": {},
   "source": [
    "# Multioutput Classification"
   ]
  },
  {
   "cell_type": "markdown",
   "id": "f27ec563",
   "metadata": {},
   "source": [
    "Let's  build a system that removes the noise from images. It will take as input a noisy digit image , and it will hopefully output a clean digit image, represented as an array of pixel intensities, just like the MNIST images."
   ]
  },
  {
   "cell_type": "code",
   "execution_count": 68,
   "id": "5bee86e6",
   "metadata": {},
   "outputs": [],
   "source": [
    "noise = np.random.randint(0, 100, (len(X_train), 784))\n",
    "X_train_mod = X_train + noise \n",
    "noise = np.random.randint(0, 100, (len(X_test), 784))\n",
    "X_test_mod = X_test + noise \n",
    "y_train_mod = X_train\n",
    "y_test_mod = X_test"
   ]
  },
  {
   "cell_type": "code",
   "execution_count": 71,
   "id": "ef4b7223",
   "metadata": {},
   "outputs": [],
   "source": [
    "def plot_digit(data):\n",
    "    image = data.reshape(28, 28)\n",
    "    plt.imshow(image, cmap = mpl.cm.binary,\n",
    "               interpolation=\"nearest\")\n",
    "    plt.axis(\"off\")"
   ]
  },
  {
   "cell_type": "code",
   "execution_count": 72,
   "id": "138fdcc9",
   "metadata": {},
   "outputs": [
    {
     "name": "stdout",
     "output_type": "stream",
     "text": [
      "Saving figure noisy_digit_example_plot\n"
     ]
    },
    {
     "data": {
      "image/png": "[encoded data removed]",
      "text/plain": [
       "<Figure size 432x288 with 2 Axes>"
      ]
     },
     "metadata": {
      "needs_background": "light"
     },
     "output_type": "display_data"
    }
   ],
   "source": [
    "some_index = 0\n",
    "plt.subplot(121); plot_digit(X_test_mod[some_index])\n",
    "plt.subplot(122); plot_digit(y_test_mod[some_index])\n",
    "save_fig(\"noisy_digit_example_plot\")\n",
    "plt.show()"
   ]
  },
  {
   "cell_type": "code",
   "execution_count": 73,
   "id": "eb805dde",
   "metadata": {},
   "outputs": [
    {
     "data": {
      "image/png": "[encoded data removed]",
      "text/plain": [
       "<Figure size 432x288 with 1 Axes>"
      ]
     },
     "metadata": {
      "needs_background": "light"
     },
     "output_type": "display_data"
    }
   ],
   "source": [
    "knn.fit(X_train_mod, y_train_mod )\n",
    "clean_digit = knn.predict([X_test_mod[some_index]])\n",
    "plot_digit(clean_digit)"
   ]
  },
  {
   "cell_type": "markdown",
   "id": "559abcb1",
   "metadata": {},
   "source": [
    "**Looks close enough to the target!**"
   ]
  },
  {
   "cell_type": "markdown",
   "id": "ef084cb3",
   "metadata": {},
   "source": [
    "# Task"
   ]
  },
  {
   "cell_type": "markdown",
   "id": "26e13074",
   "metadata": {},
   "source": [
    "Try to buid a classifier for the MNIST dataset that achives over 97% accuracy on the test set.\n",
    "\n",
    "\n",
    "**The following code is too powerful for my pc so i will let you run it... :)**"
   ]
  },
  {
   "cell_type": "code",
   "execution_count": null,
   "id": "38fcbb98",
   "metadata": {},
   "outputs": [],
   "source": [
    "from sklearn.model_selection import GridSearchCV\n",
    " \n",
    "knn = KNeighborsClassifier()\n",
    "param_grid = {\n",
    "    'n_neighbors' : [3,5,11,19],\n",
    "    'weights': ['uniform', 'distance'],\n",
    "    'metric': ['euclidian', 'manhattan']\n",
    "}\n",
    "gs = GridSearchCV(knn, param_grid, verbose =1, cv =3, n_jobs=-1)\n",
    "gs.fit(X_train, y_train)"
   ]
  },
  {
   "cell_type": "code",
   "execution_count": null,
   "id": "96eba3bb",
   "metadata": {},
   "outputs": [],
   "source": [
    "gs.best_params_"
   ]
  },
  {
   "cell_type": "code",
   "execution_count": null,
   "id": "ae15e320",
   "metadata": {},
   "outputs": [],
   "source": [
    "gs.best_score_"
   ]
  },
  {
   "cell_type": "code",
   "execution_count": null,
   "id": "5cc11f95",
   "metadata": {},
   "outputs": [],
   "source": [
    "from sklearn.metrics import accuracy_score\n",
    "y_hat = gs.predict(X_test)\n",
    "accuracy_score(y_test, y_hat)"
   ]
  },
  {
   "cell_type": "code",
   "execution_count": null,
   "id": "d2ca5827",
   "metadata": {},
   "outputs": [],
   "source": []
  }
 ],
 "metadata": {
  "kernelspec": {
   "display_name": "Python 3 (ipykernel)",
   "language": "python",
   "name": "python3"
  },
  "language_info": {
   "codemirror_mode": {
    "name": "ipython",
    "version": 3
   },
   "file_extension": ".py",
   "mimetype": "text/x-python",
   "name": "python",
   "nbconvert_exporter": "python",
   "pygments_lexer": "ipython3",
   "version": "3.9.7"
  }
 },
 "nbformat": 4,
 "nbformat_minor": 5
}
